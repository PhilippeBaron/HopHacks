{
 "cells": [
  {
   "cell_type": "code",
   "execution_count": 86,
   "metadata": {},
   "outputs": [],
   "source": [
    "import numpy as np"
   ]
  },
  {
   "cell_type": "code",
   "execution_count": 87,
   "metadata": {},
   "outputs": [],
   "source": [
    "import nltk\n",
    "from nltk.corpus import stopwords\n",
    "from nltk.tokenize import word_tokenize\n",
    "# nltk.download('stopwords')\n",
    "# nltk.download('punkt')"
   ]
  },
  {
   "cell_type": "code",
   "execution_count": null,
   "metadata": {},
   "outputs": [],
   "source": [
    "sw = stopwords.words('english')\n",
    "for w in stopwords.words('english'):\n",
    "    sw.append(w)\n",
    "    \n",
    "punctuation = '.,?!/\\()'"
   ]
  },
  {
   "cell_type": "code",
   "execution_count": 94,
   "metadata": {},
   "outputs": [
    {
     "name": "stdout",
     "output_type": "stream",
     "text": [
      "\n",
      "['popular' 'particle' 'advanced' 'importance' 'diffusion' 'bayesian'\n",
      " 'basic' 'markov' 'may' 'stochastic' 'include' 'essential' 'computation'\n",
      " 'simulation' 'classical' 'time-series']\n",
      "\n",
      "\n",
      "['modeling' 'laplace' 'unsteady' 'transfer' 'block' 'stability'\n",
      " 'separative' 'frequency' 'chemical' 'pharmacokinetic' 'nonlinear'\n",
      " 'feedforward' 'state' 'dogma/gene' 'upon' 'process' 'central' 'transform'\n",
      " 'based' 'diagram']\n"
     ]
    }
   ],
   "source": [
    "text = 'The objective of the course is to survey essential simulation techniques for popular stochastic models. The stochastic models may include classical time-series models, Markov chains and diffusion models. The basic simulation techniques covered will be useful in sample-generation of random variables, vectors and stochastic processes, and as advanced techniques, importance sampling, particle filtering and Bayesian computation may be discussed.'\n",
    "text= str.lower(text)\n",
    "\n",
    "text2 = 'Introduction to modeling, dynamics, and control. Unsteady state analysis of biomolecular and chemical process control systems. State space and Laplace transform techniques, block diagram algebra, and transfer functions. Feedback and feedforward control. Frequency response and stability analysis. Applications in chemical engineering (chemical reactors and separative processes) as well as biomolecular engineering (biosynthesis, pharmacokinetic modeling and biomolecular modeling based upon central dogma/gene expression). Introduction to nonlinear dynamics.'\n",
    "text2 = str.lower(text2)\n",
    "\n",
    "def getKeyWords(text,sw,punctuation):\n",
    "\n",
    "    words = word_tokenize(text)\n",
    "    sw_indices = []\n",
    "\n",
    "    uniqueWords = []\n",
    "    for word in words:\n",
    "        if word not in sw and word not in punctuation:\n",
    "            uniqueWords.append(word)\n",
    "    uniqueWords = np.unique(np.array(uniqueWords))\n",
    "\n",
    "    # print(text)\n",
    "    # print(uniqueWords)\n",
    "\n",
    "    uniqueWords = np.array(list(uniqueWords))\n",
    "\n",
    "    matrix = np.zeros((len(uniqueWords),len(uniqueWords)))\n",
    "\n",
    "    for i,w in enumerate(uniqueWords):\n",
    "        for t,word in enumerate(words):\n",
    "            if word == w:\n",
    "                matrix[i,i] = matrix[i,i]+1\n",
    "                if t > 0 and words[t-1] not in sw:\n",
    "                    j = np.where(uniqueWords == words[t-1])\n",
    "                    matrix[i,j] = matrix[i,j] + 1\n",
    "                if t < len(words)-1 and words[t+1] not in sw:\n",
    "                    j = np.where(uniqueWords == words[t+1])\n",
    "                    matrix[i,j] = matrix[i,j] + 1.5\n",
    "\n",
    "#     print(matrix)\n",
    "\n",
    "    matrix = np.array(matrix)\n",
    "\n",
    "    degree = np.power(np.sum(matrix,1),np.ones(len(uniqueWords))*1)\n",
    "    frequency = np.diagonal(matrix)\n",
    "\n",
    "    score = np.divide(degree,frequency)\n",
    "\n",
    "    rankedInds = np.argsort(score)\n",
    "    rankedUniqueWords = uniqueWords[rankedInds]\n",
    "    print()\n",
    "    print(rankedUniqueWords[(int(len(uniqueWords)/2)):])\n",
    "    \n",
    "getKeyWords(text,sw,punctuation)\n",
    "print()\n",
    "getKeyWords(text2,sw,punctuation)"
   ]
  },
  {
   "cell_type": "code",
   "execution_count": null,
   "metadata": {},
   "outputs": [],
   "source": []
  }
 ],
 "metadata": {
  "kernelspec": {
   "display_name": "Python 3",
   "language": "python",
   "name": "python3"
  },
  "language_info": {
   "codemirror_mode": {
    "name": "ipython",
    "version": 3
   },
   "file_extension": ".py",
   "mimetype": "text/x-python",
   "name": "python",
   "nbconvert_exporter": "python",
   "pygments_lexer": "ipython3",
   "version": "3.7.6"
  }
 },
 "nbformat": 4,
 "nbformat_minor": 4
}
