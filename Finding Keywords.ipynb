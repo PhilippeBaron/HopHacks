{
 "cells": [
  {
   "cell_type": "code",
   "execution_count": 18,
   "metadata": {},
   "outputs": [],
   "source": [
    "import numpy as np"
   ]
  },
  {
   "cell_type": "code",
   "execution_count": 25,
   "metadata": {},
   "outputs": [],
   "source": [
    "import nltk\n",
    "from nltk.corpus import stopwords\n",
    "from nltk.tokenize import word_tokenize\n",
    "# nltk.download('stopwords')\n",
    "# nltk.download('punkt')"
   ]
  },
  {
   "cell_type": "code",
   "execution_count": 50,
   "metadata": {},
   "outputs": [],
   "source": [
    "# sw = []\n",
    "# for w in stopwords.words('english'):\n",
    "#     sw.append(w)\n",
    "\n",
    "# sw = np.array(sw)\n",
    "# np.save('stopwords.npy',sw)\n"
   ]
  },
  {
   "cell_type": "code",
   "execution_count": 51,
   "metadata": {},
   "outputs": [],
   "source": [
    "sw = np.load('stopwords.npy')\n",
    "punctuation = '.,?!/\\():;'"
   ]
  },
  {
   "cell_type": "code",
   "execution_count": 52,
   "metadata": {},
   "outputs": [
    {
     "name": "stdout",
     "output_type": "stream",
     "text": [
      "\n",
      "['sampling' 'chains' 'random' 'computation' 'popular' 'particle'\n",
      " 'processes' 'models' 'markov' 'importance' 'filtering' 'classical'\n",
      " 'diffusion' 'variables' 'advanced' 'stochastic' 'techniques' 'simulation'\n",
      " 'essential' 'time-series']\n",
      "\n",
      "\n",
      "['response' 'laplace' 'algebra' 'frequency' 'analysis' 'based' 'block'\n",
      " 'central' 'unsteady' 'control' 'chemical' 'engineering' 'expression'\n",
      " 'feedforward' 'functions' 'state' 'dogma/gene' 'process' 'transform'\n",
      " 'diagram']\n",
      "\n",
      "\n",
      "['recommended' 'grounding' 'taken' 'differentiation' 'designed'\n",
      " 'continuity' 'tools' 'analysis' 'sequences' 'systems' 'spaces' 'advanced'\n",
      " 'properties' 'metric' 'integration' 'infinite' 'formal' 'complex'\n",
      " 'riemann-stieltjes' 'number']\n",
      "\n",
      "\n",
      "['carryout' 'challenges' 'bioreactor' 'projects' 'technical' 'values'\n",
      " 'stresses' 'separation' 'variables' 'communication' 'operating' 'oral'\n",
      " 'objectives' 'membrane' 'laboratory' 'biomolecular' 'calculated'\n",
      " 'effective' 'approach' 'written']\n"
     ]
    }
   ],
   "source": [
    "text = 'The objective of the course is to survey essential simulation techniques for popular stochastic models. The stochastic models may include classical time-series models, Markov chains and diffusion models. The basic simulation techniques covered will be useful in sample-generation of random variables, vectors and stochastic processes, and as advanced techniques, importance sampling, particle filtering and Bayesian computation may be discussed.'\n",
    "text= str.lower(text)\n",
    "\n",
    "text2 = 'Introduction to modeling, dynamics, and control. Unsteady state analysis of biomolecular and chemical process control systems. State space and Laplace transform techniques, block diagram algebra, and transfer functions. Feedback and feedforward control. Frequency response and stability analysis. Applications in chemical engineering (chemical reactors and separative processes) as well as biomolecular engineering (biosynthesis, pharmacokinetic modeling and biomolecular modeling based upon central dogma/gene expression). Introduction to nonlinear dynamics.'\n",
    "text2 = str.lower(text2)\n",
    "\n",
    "text3 = 'This course is designed to give a firm grounding in the basic tools of analysis. It is recommended as preparation (but may not be a prerequisite) for other advanced analysis courses and may be taken as an Introduction to Proofs (IP) course. Topics include the formal properties of real and complex number systems, topology of metric spaces, limits, continuity, infinite sequences and series, differentiation, Riemann-Stieltjes integration.'\n",
    "text3 = str.lower(text3)\n",
    "\n",
    "text4 = 'This course challenges students with laboratory projects that are not well-defined. Students work in groups to develop an effective approach to experiments. They identify the important operating variables, decide how best to obtain them using measured or calculated values. Based on their results they predict, carryout, analyze and improve experiments. Each student analyzes at least two of the following biomolecular projects: bioreactor, biocatalysis and membrane separation and one of the projects in EN.540.311. In addition to technical objectives, this course stresses oral and written communication. Students will have additional meeting times with the instructors and outside of class.'\n",
    "text4 = str.lower(text4)\n",
    "\n",
    "def getKeyWords(text,sw,punctuation,N):\n",
    "\n",
    "    words = word_tokenize(text)\n",
    "    sw_indices = []\n",
    "\n",
    "    uniqueWords = []\n",
    "    for word in words:\n",
    "        if word not in sw and word not in punctuation:\n",
    "            uniqueWords.append(word)\n",
    "    uniqueWords = np.unique(np.array(uniqueWords))\n",
    "\n",
    "    # print(text)\n",
    "    # print(uniqueWords)\n",
    "\n",
    "    uniqueWords = np.array(list(uniqueWords))\n",
    "    \n",
    "    matrix = np.zeros((len(uniqueWords),len(uniqueWords)))\n",
    "\n",
    "    for i,w in enumerate(uniqueWords):\n",
    "        for t,word in enumerate(words):\n",
    "            if word == w:\n",
    "                matrix[i,i] = matrix[i,i]+1\n",
    "                if t > 0 and words[t-1] not in sw:\n",
    "                    j = np.where(uniqueWords == words[t-1])\n",
    "                    matrix[i,j] = matrix[i,j] + 1\n",
    "                if t < len(words)-1 and words[t+1] not in sw:\n",
    "                    j = np.where(uniqueWords == words[t+1])\n",
    "                    matrix[i,j] = matrix[i,j] + 1\n",
    "\n",
    "#     print(matrix)\n",
    "\n",
    "    matrix = np.array(matrix)\n",
    "\n",
    "    degree = np.power(np.sum(matrix,1),np.ones(len(uniqueWords))*1)\n",
    "    frequency = np.diagonal(matrix)\n",
    "\n",
    "    score = np.divide(degree,frequency)\n",
    "\n",
    "    rankedInds = np.argsort(score)\n",
    "    rankedUniqueWords = uniqueWords[rankedInds]\n",
    "    print()\n",
    "    print(rankedUniqueWords[-N:])\n",
    "\n",
    "N = 20\n",
    "getKeyWords(text,sw,punctuation,N)\n",
    "print()\n",
    "getKeyWords(text2,sw,punctuation,N)\n",
    "print()\n",
    "getKeyWords(text3,sw,punctuation,N)\n",
    "print()\n",
    "getKeyWords(text4,sw,punctuation,N)\n"
   ]
  },
  {
   "cell_type": "code",
   "execution_count": null,
   "metadata": {},
   "outputs": [],
   "source": []
  }
 ],
 "metadata": {
  "kernelspec": {
   "display_name": "Python 3",
   "language": "python",
   "name": "python3"
  },
  "language_info": {
   "codemirror_mode": {
    "name": "ipython",
    "version": 3
   },
   "file_extension": ".py",
   "mimetype": "text/x-python",
   "name": "python",
   "nbconvert_exporter": "python",
   "pygments_lexer": "ipython3",
   "version": "3.7.6"
  }
 },
 "nbformat": 4,
 "nbformat_minor": 4
}
